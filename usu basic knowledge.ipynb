{
 "cells": [
  {
   "cell_type": "markdown",
   "metadata": {},
   "source": [
    "# USU basic knowledge"
   ]
  },
  {
   "cell_type": "markdown",
   "metadata": {},
   "source": [
    "Strojové učení rozdělujeme do 2 primárních skupin\n",
    "\n",
    "1. **Učení s učitelem** *(Supervised Learning)* - model má připravená v trénovacích datech i očekávaný výstup\n",
    "\n",
    "2. **Učení bez učitele** *(Unsupervised Learning)* - model nemá připravený očekávananý výstup\n",
    "\n",
    "další dělení\n",
    "\n",
    "- posilované učení *(Reinforcement Learning)* - dostává nějakou zpětnou vazbu z prostředí ve kterém působí\n",
    "\n",
    "- semi-supervised - v trénovacích datech se nachází data s očekávanými výstupy i bez"
   ]
  },
  {
   "cell_type": "markdown",
   "metadata": {},
   "source": [
    "## Učení s učitelem\n",
    "\n",
    "dělí se dále na:\n",
    "\n",
    "1. **Klasifikátory** - přiřazuje do tříd\n",
    "\n",
    "2. **Regresory** - vrací nějakou číselnou hodnotu"
   ]
  },
  {
   "cell_type": "markdown",
   "metadata": {},
   "source": [
    "## Učení bez učitele\n",
    "\n",
    "dělí se na:\n",
    "\n",
    "1. **Shlukování** - rozděluje body dat do shluků (\"bublin\")\n",
    "\n",
    "2. **Redukce dimensionality** - redukuje přebytečná (nerelevantní) data z velkých datasetů"
   ]
  },
  {
   "cell_type": "markdown",
   "metadata": {},
   "source": [
    "## Data\n",
    "\n",
    "dělení:\n",
    "\n",
    "- trénovací data - tensor, ze kterého se model učí\n",
    "\n",
    "- validační data - tensor, který se pouzívá při učení k porovnání modelu (nejsou součástí trénování)\n",
    "\n",
    "- testovací data - tensor, který se používá na zhodnocení modelu na nenatrénovaných datech\n",
    "\n",
    "Úprava s datasetem při chybějících datech\n",
    "\n",
    "- Odebrat špatné vzorky, pokud významně neovlní množství vstupních dat (velký dataset)\n",
    "\n",
    "- Vložit zprůměrovanou hodnotu\n",
    "\n",
    "- Interpolovat, z data vyvořit křivku a aproximovat (odhadnout) jaká hodnota by tam měla být (vhodné pro časové řady)\n",
    "\n",
    "Modely neumí pracovat s různými datovými typy (krom stromu), potřeba převěst na modelu srozimutelné hodnoty\n",
    "\n",
    "- Labeling - data se přes nějaký slovník převedou na kategorické čísla\n",
    "\n",
    "- One-Hot - každá kategorie bude reprezentována jako sloupec a {1,0} reprezentovat její přítomnost\n",
    "\n",
    "U dat, které jsou v různých měřítkách je často potřeba je normalizovat a standardizovat (1kg a 1000g -> MSE = |1 + 1000|^2)\n",
    "\n",
    "Odebrat odlehlé hodnoty"
   ]
  },
  {
   "cell_type": "markdown",
   "metadata": {},
   "source": [
    "# Optimalizace modelů\n",
    "\n",
    "Každou iterací (step) s množstí vzorků (batch size) se upravují  parametry modelu\n",
    "\n",
    "počet iterací je data/batch size, pokud není změněno parametrem steps per epoch\n",
    "\n",
    "Epocha značí projetí celého datasetu, ale model neupravuje (poskok v metrikách je nevývaženost parametrů s prvním vzorkem)"
   ]
  },
  {
   "cell_type": "markdown",
   "metadata": {},
   "source": [
    "## Příznakový prostor\n",
    "\n",
    "abstraktní prostor kde osy jsou vlastnosti (příznaky) dat a jednotlivé vzorky jsou reprezentovány jako body v tomto prostoru \n",
    "\n",
    "nejedná se pouze o vizualizaci, v prostoru se provádějíi vzdáleností metriky a ztrátové funkce"
   ]
  },
  {
   "cell_type": "markdown",
   "metadata": {},
   "source": [
    "## Klasifikace\n",
    "\n",
    "1. binarní - pouze jedna hodnota, 1 nebo 0\n",
    "\n",
    "2. multiclass - více výstupních hodnot\n",
    "\n",
    "3. multilabel - jeden výstop pro každou třídu"
   ]
  },
  {
   "cell_type": "markdown",
   "metadata": {},
   "source": [
    "### Různé typy modelů"
   ]
  }
 ],
 "metadata": {
  "language_info": {
   "name": "python"
  }
 },
 "nbformat": 4,
 "nbformat_minor": 2
}
