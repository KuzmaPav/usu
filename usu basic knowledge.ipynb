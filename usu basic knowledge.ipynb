{
 "cells": [
  {
   "cell_type": "markdown",
   "metadata": {},
   "source": [
    "# USU basic knowledge\n",
    "_(missing mathematics)_"
   ]
  },
  {
   "cell_type": "markdown",
   "metadata": {},
   "source": [
    "Strojové učení rozdělujeme do 2 primárních skupin\n",
    "\n",
    "1. **Učení s učitelem** *(Supervised Learning)* - model má připravená v trénovacích datech i očekávaný výstup\n",
    "\n",
    "2. **Učení bez učitele** *(Unsupervised Learning)* - model nemá připravený očekávananý výstup\n",
    "\n",
    "další dělení\n",
    "\n",
    "- posilované učení *(Reinforcement Learning)* - dostává nějakou zpětnou vazbu z prostředí ve kterém působí\n",
    "\n",
    "- semi-supervised - v trénovacích datech se nachází data s očekávanými výstupy i bez"
   ]
  },
  {
   "cell_type": "markdown",
   "metadata": {},
   "source": [
    "## Učení s učitelem\n",
    "\n",
    "dělí se dále na:\n",
    "\n",
    "1. **Klasifikátory** - přiřazuje do tříd\n",
    "\n",
    "2. **Regresory** - vrací nějakou číselnou hodnotu"
   ]
  },
  {
   "cell_type": "markdown",
   "metadata": {},
   "source": [
    "## Učení bez učitele\n",
    "\n",
    "dělí se na:\n",
    "\n",
    "1. **Shlukování** - rozděluje body dat do shluků (\"bublin\")\n",
    "\n",
    "2. **Redukce dimensionality** - redukuje přebytečná (nerelevantní) data z velkých datasetů"
   ]
  },
  {
   "cell_type": "markdown",
   "metadata": {},
   "source": [
    "## Data\n",
    "\n",
    "dělení:\n",
    "\n",
    "- trénovací data - tensor, ze kterého se model učí\n",
    "\n",
    "- validační data - tensor, který se pouzívá při učení k porovnání modelu (nejsou součástí trénování)\n",
    "\n",
    "- testovací data - tensor, který se používá na zhodnocení modelu na nenatrénovaných datech\n",
    "\n",
    "Úprava s datasetem při chybějících datech\n",
    "\n",
    "- Odebrat špatné vzorky, pokud významně neovlní množství vstupních dat (velký dataset)\n",
    "\n",
    "- Vložit zprůměrovanou hodnotu\n",
    "\n",
    "- Interpolovat, z data vyvořit křivku a aproximovat (odhadnout) jaká hodnota by tam měla být (vhodné pro časové řady)\n",
    "\n",
    "Modely neumí pracovat s různými datovými typy (krom stromu), potřeba převěst na modelu srozimutelné hodnoty\n",
    "\n",
    "- Labeling - data se přes nějaký slovník převedou na kategorické čísla\n",
    "\n",
    "- One-Hot - každá kategorie bude reprezentována jako sloupec a {1,0} reprezentovat její přítomnost\n",
    "\n",
    "U dat, které jsou v různých měřítkách je často potřeba je normalizovat a standardizovat (1kg a 1000g -> MSE = |1 + 1000|^2)\n",
    "\n",
    "- MinMaxScaler, StandardScaler\n",
    "\n",
    "Odebrat odlehlé hodnoty\n",
    "\n",
    "[odkaz na Kuberovo Collab s daty](https://colab.research.google.com/drive/1BUZ82r-c5xALO7SGO2f8Dl9X8mwtp86T#scrollTo=DRHdYGuXA6yz)"
   ]
  },
  {
   "cell_type": "markdown",
   "metadata": {},
   "source": [
    "## Optimalizace modelů\n",
    "\n",
    "Každou iterací (step) s množstí vzorků (batch size) se upravují  parametry modelu\n",
    "\n",
    "počet iterací je data/batch size, pokud není změněno parametrem steps per epoch\n",
    "\n",
    "Epocha značí projetí celého datasetu, ale model neupravuje (poskok v metrikách je nevývaženost parametrů s prvním vzorkem)"
   ]
  },
  {
   "cell_type": "markdown",
   "metadata": {},
   "source": [
    "## Příznakový prostor\n",
    "\n",
    "abstraktní prostor kde osy jsou vlastnosti (příznaky) dat a jednotlivé vzorky jsou reprezentovány jako body v tomto prostoru \n",
    "\n",
    "nejedná se pouze o vizualizaci, v prostoru se provádějíi vzdáleností metriky a ztrátové funkce"
   ]
  },
  {
   "cell_type": "markdown",
   "metadata": {},
   "source": [
    "## Klasifikace\n",
    "\n",
    "1. binarní - pouze jedna hodnota, 1 nebo 0\n",
    "\n",
    "2. multiclass - více výstupních hodnot\n",
    "\n",
    "3. multilabel - jeden výstup pro každou třídu"
   ]
  },
  {
   "cell_type": "markdown",
   "metadata": {},
   "source": [
    "## Různé typy modelů"
   ]
  },
  {
   "cell_type": "markdown",
   "metadata": {},
   "source": [
    "### Stromy\n",
    "\n",
    "- model, který dokáže řešit klasifikační i regresní problematiky\n",
    "\n",
    "- model, nevyžaduje normalizaci a je schopný pracovat i s kategoriálními proměnnými\n",
    "\n",
    "- model nevyžaduje parametry krom jednoho a to je maximální hloubka stromu\n",
    "\n",
    "- model má nevýhodu přeučení a špatné generalizace (zevšeobecňování)\n",
    "\n",
    "- pro naučení modelu se používájí techniky:\n",
    "\n",
    "    #### Impurita\n",
    "\n",
    "    - rozhoduje jak se má větev vyvíjet (dílčí uzly) podle metriky, která odhaduje nejlepší vlastnost. snaží se vytvářet uzly, které jsou nejčistčí (nejpodobnější prvky)\n",
    "\n",
    "    - metody zakládají na tom, že hledají takové prvky, kde je jich nejvíce se stejným labelem\n",
    "\n",
    "    - pokud jsou data rovnoměrná (všechny prvky patří do jedné třídy/labelu) je metrika $=0$ \n",
    "\n",
    "        ##### Entropie\n",
    "\n",
    "        ##### Gini impurity\n",
    "\n",
    "        ##### Chyba klasifikace\n",
    "\n",
    "\n",
    "    #### Pruning\n",
    "\n",
    "    - jedná se o metodiku, která řeší přenaučení stromů (stromy mají uzly s jednou proměnnou)\n",
    "\n",
    "    - stromy řeže tak aby se tyto uzly redukovaly\n",
    "\n",
    "        ##### pre-prunning\n",
    "\n",
    "        - nastavování těchto pravidel před/při trénování aby strom nevlezl do určité hloubky. (princip Occamova břitva)\n",
    "\n",
    "        ##### post-prunning\n",
    "\n",
    "        - po natrénování modelu se strom ořeže o nechtěné/nejhlubší uzly\n",
    "\n",
    "    #### Lesy\n",
    "\n",
    "    - stromy lze seskupit do jednoho většího modelu, kde stromy \"spolupracují\" k získání lepšího výsledku (Základní myšlenka: více hlav víc ví)\n",
    "\n",
    "    - dva hlavní algoritmy:\n",
    "\n",
    "        ##### Bagging\n",
    "\n",
    "        - data set je rozdělený na menší části, který se můžou překrývat.\n",
    "\n",
    "        - na každé sub-sadě se učí jeden klasifikátor -> paralelní učení\n",
    "\n",
    "        - výsledek je většinový hlasování klasifikátorů\n",
    "\n",
    "        - příklad: RandomForest\n",
    "\n",
    "        - také se snižuje přiznakový prostor (max_features)\n",
    "\n",
    "        ##### Boosting\n",
    "\n",
    "        - data set se rozdělí na menší části\n",
    "\n",
    "        - postupně se stromy učí na sub-sadě a klasifikace, které byly špatně byly předány dalšímu\n",
    "\n",
    "        - jde o postupný konstruování stromů tam kde předchozí selhali\n",
    "\n",
    "        - používá se slabý klasifikátor (strom s malou hloubkou)\n",
    "\n",
    "        - příklad: AdaBoost, Gradient Tree Boosting\n",
    "\n",
    "    [odkaz na Kuberovo Collab o stromech](https://colab.research.google.com/drive/1GhWPvxWwgPTS-1kwP3KdDu1C6-wdE19w#scrollTo=I3UtUrsMpaQD)"
   ]
  }
 ],
 "metadata": {
  "language_info": {
   "name": "python"
  }
 },
 "nbformat": 4,
 "nbformat_minor": 2
}
